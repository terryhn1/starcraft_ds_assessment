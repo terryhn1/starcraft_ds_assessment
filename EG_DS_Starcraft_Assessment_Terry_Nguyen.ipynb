{
  "nbformat": 4,
  "nbformat_minor": 0,
  "metadata": {
    "colab": {
      "provenance": [],
      "toc_visible": true
    },
    "kernelspec": {
      "name": "python3",
      "display_name": "Python 3"
    },
    "language_info": {
      "name": "python"
    }
  },
  "cells": [
    {
      "cell_type": "markdown",
      "source": [
        "## Data Set up"
      ],
      "metadata": {
        "id": "pTjyayBc7KMf"
      }
    },
    {
      "cell_type": "code",
      "execution_count": 4,
      "metadata": {
        "colab": {
          "base_uri": "https://localhost:8080/"
        },
        "id": "4XCHZ8W47C_W",
        "outputId": "ce44db0a-c991-4b37-dbcb-558dd5fbcc0d"
      },
      "outputs": [
        {
          "output_type": "stream",
          "name": "stdout",
          "text": [
            "Drive already mounted at /content/drive; to attempt to forcibly remount, call drive.mount(\"/content/drive\", force_remount=True).\n"
          ]
        }
      ],
      "source": [
        "# Linking up Google Colab to Google Drive to get the csv file\n",
        "from google.colab import drive\n",
        "\n",
        "drive.mount('/content/drive')\n",
        "\n",
        "file_name = 'Copy of starcraft_player_data.csv'"
      ]
    },
    {
      "cell_type": "code",
      "source": [
        "# Create pandas dataframe\n",
        "import pandas as pd\n",
        "\n",
        "starcraft_df = pd.read_csv(f'/content/drive/MyDrive/{file_name}')\n",
        "\n",
        "starcraft_df.head()"
      ],
      "metadata": {
        "colab": {
          "base_uri": "https://localhost:8080/",
          "height": 270
        },
        "id": "JgrxVMuN7Jlm",
        "outputId": "c457ff24-cac2-4e0b-d335-90b12ee39d22"
      },
      "execution_count": 269,
      "outputs": [
        {
          "output_type": "execute_result",
          "data": {
            "text/plain": [
              "   GameID  LeagueIndex Age HoursPerWeek TotalHours       APM  SelectByHotkeys  \\\n",
              "0      52            5  27           10       3000  143.7180         0.003515   \n",
              "1      55            5  23           10       5000  129.2322         0.003304   \n",
              "2      56            4  30           10        200   69.9612         0.001101   \n",
              "3      57            3  19           20        400  107.6016         0.001034   \n",
              "4      58            3  32           10        500  122.8908         0.001136   \n",
              "\n",
              "   AssignToHotkeys  UniqueHotkeys  MinimapAttacks  MinimapRightClicks  \\\n",
              "0         0.000220              7        0.000110            0.000392   \n",
              "1         0.000259              4        0.000294            0.000432   \n",
              "2         0.000336              4        0.000294            0.000461   \n",
              "3         0.000213              1        0.000053            0.000543   \n",
              "4         0.000327              2        0.000000            0.001329   \n",
              "\n",
              "   NumberOfPACs  GapBetweenPACs  ActionLatency  ActionsInPAC  \\\n",
              "0      0.004849         32.6677        40.8673        4.7508   \n",
              "1      0.004307         32.9194        42.3454        4.8434   \n",
              "2      0.002926         44.6475        75.3548        4.0430   \n",
              "3      0.003783         29.2203        53.7352        4.9155   \n",
              "4      0.002368         22.6885        62.0813        9.3740   \n",
              "\n",
              "   TotalMapExplored  WorkersMade  UniqueUnitsMade  ComplexUnitsMade  \\\n",
              "0                28     0.001397                6               0.0   \n",
              "1                22     0.001193                5               0.0   \n",
              "2                22     0.000745                6               0.0   \n",
              "3                19     0.000426                7               0.0   \n",
              "4                15     0.001174                4               0.0   \n",
              "\n",
              "   ComplexAbilitiesUsed  \n",
              "0              0.000000  \n",
              "1              0.000208  \n",
              "2              0.000189  \n",
              "3              0.000384  \n",
              "4              0.000019  "
            ],
            "text/html": [
              "\n",
              "  <div id=\"df-d6f64b45-9ee6-4cee-b306-f46e97d7b9c4\">\n",
              "    <div class=\"colab-df-container\">\n",
              "      <div>\n",
              "<style scoped>\n",
              "    .dataframe tbody tr th:only-of-type {\n",
              "        vertical-align: middle;\n",
              "    }\n",
              "\n",
              "    .dataframe tbody tr th {\n",
              "        vertical-align: top;\n",
              "    }\n",
              "\n",
              "    .dataframe thead th {\n",
              "        text-align: right;\n",
              "    }\n",
              "</style>\n",
              "<table border=\"1\" class=\"dataframe\">\n",
              "  <thead>\n",
              "    <tr style=\"text-align: right;\">\n",
              "      <th></th>\n",
              "      <th>GameID</th>\n",
              "      <th>LeagueIndex</th>\n",
              "      <th>Age</th>\n",
              "      <th>HoursPerWeek</th>\n",
              "      <th>TotalHours</th>\n",
              "      <th>APM</th>\n",
              "      <th>SelectByHotkeys</th>\n",
              "      <th>AssignToHotkeys</th>\n",
              "      <th>UniqueHotkeys</th>\n",
              "      <th>MinimapAttacks</th>\n",
              "      <th>MinimapRightClicks</th>\n",
              "      <th>NumberOfPACs</th>\n",
              "      <th>GapBetweenPACs</th>\n",
              "      <th>ActionLatency</th>\n",
              "      <th>ActionsInPAC</th>\n",
              "      <th>TotalMapExplored</th>\n",
              "      <th>WorkersMade</th>\n",
              "      <th>UniqueUnitsMade</th>\n",
              "      <th>ComplexUnitsMade</th>\n",
              "      <th>ComplexAbilitiesUsed</th>\n",
              "    </tr>\n",
              "  </thead>\n",
              "  <tbody>\n",
              "    <tr>\n",
              "      <th>0</th>\n",
              "      <td>52</td>\n",
              "      <td>5</td>\n",
              "      <td>27</td>\n",
              "      <td>10</td>\n",
              "      <td>3000</td>\n",
              "      <td>143.7180</td>\n",
              "      <td>0.003515</td>\n",
              "      <td>0.000220</td>\n",
              "      <td>7</td>\n",
              "      <td>0.000110</td>\n",
              "      <td>0.000392</td>\n",
              "      <td>0.004849</td>\n",
              "      <td>32.6677</td>\n",
              "      <td>40.8673</td>\n",
              "      <td>4.7508</td>\n",
              "      <td>28</td>\n",
              "      <td>0.001397</td>\n",
              "      <td>6</td>\n",
              "      <td>0.0</td>\n",
              "      <td>0.000000</td>\n",
              "    </tr>\n",
              "    <tr>\n",
              "      <th>1</th>\n",
              "      <td>55</td>\n",
              "      <td>5</td>\n",
              "      <td>23</td>\n",
              "      <td>10</td>\n",
              "      <td>5000</td>\n",
              "      <td>129.2322</td>\n",
              "      <td>0.003304</td>\n",
              "      <td>0.000259</td>\n",
              "      <td>4</td>\n",
              "      <td>0.000294</td>\n",
              "      <td>0.000432</td>\n",
              "      <td>0.004307</td>\n",
              "      <td>32.9194</td>\n",
              "      <td>42.3454</td>\n",
              "      <td>4.8434</td>\n",
              "      <td>22</td>\n",
              "      <td>0.001193</td>\n",
              "      <td>5</td>\n",
              "      <td>0.0</td>\n",
              "      <td>0.000208</td>\n",
              "    </tr>\n",
              "    <tr>\n",
              "      <th>2</th>\n",
              "      <td>56</td>\n",
              "      <td>4</td>\n",
              "      <td>30</td>\n",
              "      <td>10</td>\n",
              "      <td>200</td>\n",
              "      <td>69.9612</td>\n",
              "      <td>0.001101</td>\n",
              "      <td>0.000336</td>\n",
              "      <td>4</td>\n",
              "      <td>0.000294</td>\n",
              "      <td>0.000461</td>\n",
              "      <td>0.002926</td>\n",
              "      <td>44.6475</td>\n",
              "      <td>75.3548</td>\n",
              "      <td>4.0430</td>\n",
              "      <td>22</td>\n",
              "      <td>0.000745</td>\n",
              "      <td>6</td>\n",
              "      <td>0.0</td>\n",
              "      <td>0.000189</td>\n",
              "    </tr>\n",
              "    <tr>\n",
              "      <th>3</th>\n",
              "      <td>57</td>\n",
              "      <td>3</td>\n",
              "      <td>19</td>\n",
              "      <td>20</td>\n",
              "      <td>400</td>\n",
              "      <td>107.6016</td>\n",
              "      <td>0.001034</td>\n",
              "      <td>0.000213</td>\n",
              "      <td>1</td>\n",
              "      <td>0.000053</td>\n",
              "      <td>0.000543</td>\n",
              "      <td>0.003783</td>\n",
              "      <td>29.2203</td>\n",
              "      <td>53.7352</td>\n",
              "      <td>4.9155</td>\n",
              "      <td>19</td>\n",
              "      <td>0.000426</td>\n",
              "      <td>7</td>\n",
              "      <td>0.0</td>\n",
              "      <td>0.000384</td>\n",
              "    </tr>\n",
              "    <tr>\n",
              "      <th>4</th>\n",
              "      <td>58</td>\n",
              "      <td>3</td>\n",
              "      <td>32</td>\n",
              "      <td>10</td>\n",
              "      <td>500</td>\n",
              "      <td>122.8908</td>\n",
              "      <td>0.001136</td>\n",
              "      <td>0.000327</td>\n",
              "      <td>2</td>\n",
              "      <td>0.000000</td>\n",
              "      <td>0.001329</td>\n",
              "      <td>0.002368</td>\n",
              "      <td>22.6885</td>\n",
              "      <td>62.0813</td>\n",
              "      <td>9.3740</td>\n",
              "      <td>15</td>\n",
              "      <td>0.001174</td>\n",
              "      <td>4</td>\n",
              "      <td>0.0</td>\n",
              "      <td>0.000019</td>\n",
              "    </tr>\n",
              "  </tbody>\n",
              "</table>\n",
              "</div>\n",
              "      <button class=\"colab-df-convert\" onclick=\"convertToInteractive('df-d6f64b45-9ee6-4cee-b306-f46e97d7b9c4')\"\n",
              "              title=\"Convert this dataframe to an interactive table.\"\n",
              "              style=\"display:none;\">\n",
              "        \n",
              "  <svg xmlns=\"http://www.w3.org/2000/svg\" height=\"24px\"viewBox=\"0 0 24 24\"\n",
              "       width=\"24px\">\n",
              "    <path d=\"M0 0h24v24H0V0z\" fill=\"none\"/>\n",
              "    <path d=\"M18.56 5.44l.94 2.06.94-2.06 2.06-.94-2.06-.94-.94-2.06-.94 2.06-2.06.94zm-11 1L8.5 8.5l.94-2.06 2.06-.94-2.06-.94L8.5 2.5l-.94 2.06-2.06.94zm10 10l.94 2.06.94-2.06 2.06-.94-2.06-.94-.94-2.06-.94 2.06-2.06.94z\"/><path d=\"M17.41 7.96l-1.37-1.37c-.4-.4-.92-.59-1.43-.59-.52 0-1.04.2-1.43.59L10.3 9.45l-7.72 7.72c-.78.78-.78 2.05 0 2.83L4 21.41c.39.39.9.59 1.41.59.51 0 1.02-.2 1.41-.59l7.78-7.78 2.81-2.81c.8-.78.8-2.07 0-2.86zM5.41 20L4 18.59l7.72-7.72 1.47 1.35L5.41 20z\"/>\n",
              "  </svg>\n",
              "      </button>\n",
              "      \n",
              "  <style>\n",
              "    .colab-df-container {\n",
              "      display:flex;\n",
              "      flex-wrap:wrap;\n",
              "      gap: 12px;\n",
              "    }\n",
              "\n",
              "    .colab-df-convert {\n",
              "      background-color: #E8F0FE;\n",
              "      border: none;\n",
              "      border-radius: 50%;\n",
              "      cursor: pointer;\n",
              "      display: none;\n",
              "      fill: #1967D2;\n",
              "      height: 32px;\n",
              "      padding: 0 0 0 0;\n",
              "      width: 32px;\n",
              "    }\n",
              "\n",
              "    .colab-df-convert:hover {\n",
              "      background-color: #E2EBFA;\n",
              "      box-shadow: 0px 1px 2px rgba(60, 64, 67, 0.3), 0px 1px 3px 1px rgba(60, 64, 67, 0.15);\n",
              "      fill: #174EA6;\n",
              "    }\n",
              "\n",
              "    [theme=dark] .colab-df-convert {\n",
              "      background-color: #3B4455;\n",
              "      fill: #D2E3FC;\n",
              "    }\n",
              "\n",
              "    [theme=dark] .colab-df-convert:hover {\n",
              "      background-color: #434B5C;\n",
              "      box-shadow: 0px 1px 3px 1px rgba(0, 0, 0, 0.15);\n",
              "      filter: drop-shadow(0px 1px 2px rgba(0, 0, 0, 0.3));\n",
              "      fill: #FFFFFF;\n",
              "    }\n",
              "  </style>\n",
              "\n",
              "      <script>\n",
              "        const buttonEl =\n",
              "          document.querySelector('#df-d6f64b45-9ee6-4cee-b306-f46e97d7b9c4 button.colab-df-convert');\n",
              "        buttonEl.style.display =\n",
              "          google.colab.kernel.accessAllowed ? 'block' : 'none';\n",
              "\n",
              "        async function convertToInteractive(key) {\n",
              "          const element = document.querySelector('#df-d6f64b45-9ee6-4cee-b306-f46e97d7b9c4');\n",
              "          const dataTable =\n",
              "            await google.colab.kernel.invokeFunction('convertToInteractive',\n",
              "                                                     [key], {});\n",
              "          if (!dataTable) return;\n",
              "\n",
              "          const docLinkHtml = 'Like what you see? Visit the ' +\n",
              "            '<a target=\"_blank\" href=https://colab.research.google.com/notebooks/data_table.ipynb>data table notebook</a>'\n",
              "            + ' to learn more about interactive tables.';\n",
              "          element.innerHTML = '';\n",
              "          dataTable['output_type'] = 'display_data';\n",
              "          await google.colab.output.renderOutput(dataTable, element);\n",
              "          const docLink = document.createElement('div');\n",
              "          docLink.innerHTML = docLinkHtml;\n",
              "          element.appendChild(docLink);\n",
              "        }\n",
              "      </script>\n",
              "    </div>\n",
              "  </div>\n",
              "  "
            ]
          },
          "metadata": {},
          "execution_count": 269
        }
      ]
    },
    {
      "cell_type": "markdown",
      "source": [
        "## First Data Exploration Time!"
      ],
      "metadata": {
        "id": "94r_SDBC9Bl7"
      }
    },
    {
      "cell_type": "code",
      "source": [
        "## First, I would like to see a visualization of the distribution for the LeagueIndex, to see if we follow a normal distribution in the classes\n",
        "\n",
        "import scipy\n",
        "import seaborn\n",
        "\n",
        "ranks_count = starcraft_df.LeagueIndex.value_counts()\n",
        "\n",
        "print(ranks_count)"
      ],
      "metadata": {
        "colab": {
          "base_uri": "https://localhost:8080/"
        },
        "id": "qnI_k2nQ9Dxs",
        "outputId": "bad62828-664d-4a47-bc27-1db4377ef9e3"
      },
      "execution_count": 68,
      "outputs": [
        {
          "output_type": "stream",
          "name": "stdout",
          "text": [
            "4    811\n",
            "5    806\n",
            "6    621\n",
            "3    553\n",
            "2    347\n",
            "1    167\n",
            "8     55\n",
            "7     35\n",
            "Name: LeagueIndex, dtype: int64\n"
          ]
        }
      ]
    },
    {
      "cell_type": "code",
      "source": [
        "seaborn.countplot(starcraft_df, x = 'LeagueIndex')"
      ],
      "metadata": {
        "colab": {
          "base_uri": "https://localhost:8080/",
          "height": 466
        },
        "id": "Lip7sVi397i9",
        "outputId": "e41e2f97-c866-47c9-e956-2ef8613a1c2d"
      },
      "execution_count": 203,
      "outputs": [
        {
          "output_type": "execute_result",
          "data": {
            "text/plain": [
              "<Axes: xlabel='LeagueIndex', ylabel='count'>"
            ]
          },
          "metadata": {},
          "execution_count": 203
        },
        {
          "output_type": "display_data",
          "data": {
            "text/plain": [
              "<Figure size 640x480 with 1 Axes>"
            ],
            "image/png": "[encoded data removed]"
          },
          "metadata": {}
        }
      ]
    },
    {
      "cell_type": "markdown",
      "source": [
        "As we can see here, It follows a bell curve from class 1 to 6, but there are big outliers in 7 and 8. This is probably a good representation in real life as 7-8 stands for more of a professional league. The Shapiro and the Kolmogorov-Smirnov tests are used to statistically show whether it follows a normal distribution or not. The model chosen later on can be dependent on this factor."
      ],
      "metadata": {
        "id": "ZHlL0GvB-ggf"
      }
    },
    {
      "cell_type": "code",
      "source": [
        "# Default confidence level of the test are 95%\n",
        "\n",
        "ks_test = scipy.stats.kstest(starcraft_df.LeagueIndex, 'norm')\n",
        "shapiro_test = scipy.stats.shapiro(starcraft_df.LeagueIndex)\n",
        "\n",
        "# If p_value is higher than 0.05, then we can conclude that it can be normally distributed\n",
        "\n",
        "ks_test.pvalue, shapiro_test.pvalue"
      ],
      "metadata": {
        "colab": {
          "base_uri": "https://localhost:8080/"
        },
        "id": "xwDuI9Wy-dqc",
        "outputId": "6cc372f5-8c16-477c-9266-347a8d86b252"
      },
      "execution_count": 71,
      "outputs": [
        {
          "output_type": "execute_result",
          "data": {
            "text/plain": [
              "(0.0, 2.2302645134601645e-33)"
            ]
          },
          "metadata": {},
          "execution_count": 71
        }
      ]
    },
    {
      "cell_type": "markdown",
      "source": [
        "Because the p values that came back were not greater than 0.05, I can assume that the differences in classes 1 and 2 to classes 7 and 8 may be affecting what would be a normal distribution of the data. From here, I may decide whether to add dummy data to fill in 7 and 8 using averages across other features should I want to use techniques meant for normal distributed data. For now, I'd like to get the correlation between all the features to the League Index."
      ],
      "metadata": {
        "id": "Uzvd4dhUCtM-"
      }
    },
    {
      "cell_type": "code",
      "source": [
        "starcraft_df.corr().LeagueIndex.sort_values(ascending = False)"
      ],
      "metadata": {
        "colab": {
          "base_uri": "https://localhost:8080/"
        },
        "id": "fqVUuyPqBmQc",
        "outputId": "d167b73c-f18d-43a8-f6c0-043c9b733eac"
      },
      "execution_count": 72,
      "outputs": [
        {
          "output_type": "stream",
          "name": "stderr",
          "text": [
            "<ipython-input-72-c684097342d1>:1: FutureWarning: The default value of numeric_only in DataFrame.corr is deprecated. In a future version, it will default to False. Select only valid columns or specify the value of numeric_only to silence this warning.\n",
            "  starcraft_df.corr().LeagueIndex.sort_values(ascending = False)\n"
          ]
        },
        {
          "output_type": "execute_result",
          "data": {
            "text/plain": [
              "LeagueIndex             1.000000\n",
              "APM                     0.662309\n",
              "NumberOfPACs            0.612192\n",
              "AssignToHotkeys         0.531125\n",
              "SelectByHotkeys         0.490599\n",
              "UniqueHotkeys           0.351213\n",
              "MinimapAttacks          0.312544\n",
              "WorkersMade             0.295643\n",
              "MinimapRightClicks      0.233231\n",
              "TotalMapExplored        0.220676\n",
              "ComplexUnitsMade        0.148834\n",
              "ComplexAbilitiesUsed    0.145733\n",
              "ActionsInPAC            0.143121\n",
              "UniqueUnitsMade         0.133508\n",
              "GameID                  0.102601\n",
              "GapBetweenPACs         -0.553246\n",
              "ActionLatency          -0.673939\n",
              "Name: LeagueIndex, dtype: float64"
            ]
          },
          "metadata": {},
          "execution_count": 72
        }
      ]
    },
    {
      "cell_type": "code",
      "source": [
        "len(starcraft_df)"
      ],
      "metadata": {
        "colab": {
          "base_uri": "https://localhost:8080/"
        },
        "id": "laKyCb_LEBQJ",
        "outputId": "24cf67bc-0e89-44b8-b09f-c365dc18ee0e"
      },
      "execution_count": 73,
      "outputs": [
        {
          "output_type": "execute_result",
          "data": {
            "text/plain": [
              "3395"
            ]
          },
          "metadata": {},
          "execution_count": 73
        }
      ]
    },
    {
      "cell_type": "code",
      "source": [],
      "metadata": {
        "id": "hwufrsT3GaFR"
      },
      "execution_count": 73,
      "outputs": []
    },
    {
      "cell_type": "markdown",
      "source": [
        "With the length of our dataset being over 3000, I can assume that this can be labeled as a large dataset and that I can remove GapBetweenPACs and ActionLatency because it does not seem to statistically important for our results and I would like to remove unneccessary features. I'll evaluate on whether there may be duplicate columns in the data based on a heatmap from the correlation among all columns for further future removal."
      ],
      "metadata": {
        "id": "ksZd9ODQE3tj"
      }
    },
    {
      "cell_type": "code",
      "source": [
        "seaborn.heatmap(starcraft_df.corr())"
      ],
      "metadata": {
        "colab": {
          "base_uri": "https://localhost:8080/",
          "height": 644
        },
        "id": "pN5ULzirEyCC",
        "outputId": "ad7bf30b-0b93-44a5-c34b-6cb664e9d71f"
      },
      "execution_count": 74,
      "outputs": [
        {
          "output_type": "stream",
          "name": "stderr",
          "text": [
            "<ipython-input-74-761ec7344dde>:1: FutureWarning: The default value of numeric_only in DataFrame.corr is deprecated. In a future version, it will default to False. Select only valid columns or specify the value of numeric_only to silence this warning.\n",
            "  seaborn.heatmap(starcraft_df.corr())\n"
          ]
        },
        {
          "output_type": "execute_result",
          "data": {
            "text/plain": [
              "<Axes: >"
            ]
          },
          "metadata": {},
          "execution_count": 74
        },
        {
          "output_type": "display_data",
          "data": {
            "text/plain": [
              "<Figure size 640x480 with 2 Axes>"
            ],
            "image/png": "[encoded data removed]"
          },
          "metadata": {}
        }
      ]
    },
    {
      "cell_type": "markdown",
      "source": [
        "There's high correlations between APM and to columns that suggests that an action is done in a keyframe. This makes sense since it's recording the average distribution of actions in a keyframe. Does not seem to be concerning.\n",
        "\n",
        "Now, I want to find out the columns that have missing data. While creating the heatmap, it appears that columns Age, HoursPerWeek, and TotalHours were not included."
      ],
      "metadata": {
        "id": "3702tqngHW_v"
      }
    },
    {
      "cell_type": "code",
      "source": [
        "starcraft_df.Age.value_counts()['?']"
      ],
      "metadata": {
        "colab": {
          "base_uri": "https://localhost:8080/"
        },
        "id": "FBcYFbaoHMOB",
        "outputId": "44ae5f57-b93f-470e-dd92-6a163637a810"
      },
      "execution_count": 75,
      "outputs": [
        {
          "output_type": "execute_result",
          "data": {
            "text/plain": [
              "55"
            ]
          },
          "metadata": {},
          "execution_count": 75
        }
      ]
    },
    {
      "cell_type": "code",
      "source": [
        "starcraft_df.HoursPerWeek.value_counts()['?']"
      ],
      "metadata": {
        "colab": {
          "base_uri": "https://localhost:8080/"
        },
        "id": "dRa-WYItH7tx",
        "outputId": "a5971cea-8448-4e9e-fc0e-3560cfe9c0c4"
      },
      "execution_count": 76,
      "outputs": [
        {
          "output_type": "execute_result",
          "data": {
            "text/plain": [
              "56"
            ]
          },
          "metadata": {},
          "execution_count": 76
        }
      ]
    },
    {
      "cell_type": "code",
      "source": [
        "starcraft_df.TotalHours.value_counts()['?']"
      ],
      "metadata": {
        "colab": {
          "base_uri": "https://localhost:8080/"
        },
        "id": "ExdTO09EJMHo",
        "outputId": "a73dc413-f08a-4ad0-8d8a-730183ddb7d9"
      },
      "execution_count": 77,
      "outputs": [
        {
          "output_type": "execute_result",
          "data": {
            "text/plain": [
              "57"
            ]
          },
          "metadata": {},
          "execution_count": 77
        }
      ]
    },
    {
      "cell_type": "markdown",
      "source": [
        "I believe that a common assumption when it comes to the world of esports is that there is amount of effort players put in to be good at what they do. This assumption also comes from the infamous 10,000 Hours rule. In addition, it is also a common assumption that the younger a video game player is, they typically have more time to play to build up their mechanics for the game. An older player may not have the same reaction speed or have different focuses. Therefore, these columns are expected to still add value to our data. The good thing is that the amount of data, if assumed that they are row-independent, it accounts for about 4% of our data, which is not a huge loss. "
      ],
      "metadata": {
        "id": "ENtiMNANKxO9"
      }
    },
    {
      "cell_type": "markdown",
      "source": [
        "## Some Data Clean Up"
      ],
      "metadata": {
        "id": "IIQ7AAjVLuW2"
      }
    },
    {
      "cell_type": "code",
      "source": [
        "# First I want to investigate into the issue of the missing information from the '?' for some columns\n",
        "\n",
        "temp_df = starcraft_df.loc[:][starcraft_df['LeagueIndex'] == 8]\n",
        "\n",
        "temp_df.Age.value_counts()['?'], temp_df.HoursPerWeek.value_counts()['?'], temp_df.TotalHours.value_counts()['?']\n",
        "\n",
        "# UPDATE: Apply a change to HoursPerWeek to 70, set Age to 0 and TotalHours to 0.\n",
        "# Age and TotalHours is dropped in the future, so only changes needed is HoursPerWeek\n",
        "\n",
        "temp_df.loc[:, 'HoursPerWeek'] = temp_df['HoursPerWeek'].replace({\"?\": 70})\n",
        "temp_df.loc[: ,'Age'] = temp_df['Age'].replace({\"?\": 0})\n",
        "temp_df.loc[:,'TotalHours'] = temp_df['TotalHours'].replace({\"?\": 0})\n",
        "\n",
        "starcraft_df = starcraft_df.drop(temp_df.index)\n",
        "starcraft_df = pd.concat([starcraft_df, temp_df], ignore_index = True)\n",
        "\n",
        "starcraft_df[starcraft_df['LeagueIndex'] == 8].head()"
      ],
      "metadata": {
        "colab": {
          "base_uri": "https://localhost:8080/",
          "height": 374
        },
        "id": "0P0QPmb_KWxX",
        "outputId": "9e8e1f48-a8d8-41f5-e35f-0ed6c94e5868"
      },
      "execution_count": 270,
      "outputs": [
        {
          "output_type": "stream",
          "name": "stderr",
          "text": [
            "<ipython-input-270-71b9cb4d470a>:10: DeprecationWarning: In a future version, `df.iloc[:, i] = newvals` will attempt to set the values inplace instead of always setting a new array. To retain the old behavior, use either `df[df.columns[i]] = newvals` or, if columns are non-unique, `df.isetitem(i, newvals)`\n",
            "  temp_df.loc[:, 'HoursPerWeek'] = temp_df['HoursPerWeek'].replace({\"?\": 70})\n",
            "<ipython-input-270-71b9cb4d470a>:11: DeprecationWarning: In a future version, `df.iloc[:, i] = newvals` will attempt to set the values inplace instead of always setting a new array. To retain the old behavior, use either `df[df.columns[i]] = newvals` or, if columns are non-unique, `df.isetitem(i, newvals)`\n",
            "  temp_df.loc[: ,'Age'] = temp_df['Age'].replace({\"?\": 0})\n",
            "<ipython-input-270-71b9cb4d470a>:12: DeprecationWarning: In a future version, `df.iloc[:, i] = newvals` will attempt to set the values inplace instead of always setting a new array. To retain the old behavior, use either `df[df.columns[i]] = newvals` or, if columns are non-unique, `df.isetitem(i, newvals)`\n",
            "  temp_df.loc[:,'TotalHours'] = temp_df['TotalHours'].replace({\"?\": 0})\n"
          ]
        },
        {
          "output_type": "execute_result",
          "data": {
            "text/plain": [
              "      GameID  LeagueIndex Age HoursPerWeek TotalHours       APM  \\\n",
              "3340   10001            8   0           70          0  189.7404   \n",
              "3341   10005            8   0           70          0  287.8128   \n",
              "3342   10006            8   0           70          0  294.0996   \n",
              "3343   10015            8   0           70          0  274.2552   \n",
              "3344   10016            8   0           70          0  274.3404   \n",
              "\n",
              "      SelectByHotkeys  AssignToHotkeys  UniqueHotkeys  MinimapAttacks  \\\n",
              "3340         0.004582         0.000655              4        0.000073   \n",
              "3341         0.029040         0.001041              9        0.000231   \n",
              "3342         0.029640         0.001076              6        0.000302   \n",
              "3343         0.018121         0.001264              8        0.000053   \n",
              "3344         0.023131         0.000739              8        0.000622   \n",
              "\n",
              "      MinimapRightClicks  NumberOfPACs  GapBetweenPACs  ActionLatency  \\\n",
              "3340            0.000618      0.006291         23.5130        32.5665   \n",
              "3341            0.000656      0.005399         31.6416        36.1143   \n",
              "3342            0.002374      0.006294         16.6393        36.8192   \n",
              "3343            0.000975      0.007111         10.6419        24.3556   \n",
              "3344            0.003552      0.005355         19.1568        36.3098   \n",
              "\n",
              "      ActionsInPAC  TotalMapExplored  WorkersMade  UniqueUnitsMade  \\\n",
              "3340        4.4451                25     0.002218                6   \n",
              "3341        4.5893                34     0.001138                6   \n",
              "3342        4.1850                26     0.000987                6   \n",
              "3343        4.3870                28     0.001106                6   \n",
              "3344        5.2811                28     0.000739                6   \n",
              "\n",
              "      ComplexUnitsMade  ComplexAbilitiesUsed  \n",
              "3340          0.000000                   0.0  \n",
              "3341          0.000058                   0.0  \n",
              "3342          0.000000                   0.0  \n",
              "3343          0.000000                   0.0  \n",
              "3344          0.000000                   0.0  "
            ],
            "text/html": [
              "\n",
              "  <div id=\"df-149e4329-1a97-4e36-ac75-c46c462e2534\">\n",
              "    <div class=\"colab-df-container\">\n",
              "      <div>\n",
              "<style scoped>\n",
              "    .dataframe tbody tr th:only-of-type {\n",
              "        vertical-align: middle;\n",
              "    }\n",
              "\n",
              "    .dataframe tbody tr th {\n",
              "        vertical-align: top;\n",
              "    }\n",
              "\n",
              "    .dataframe thead th {\n",
              "        text-align: right;\n",
              "    }\n",
              "</style>\n",
              "<table border=\"1\" class=\"dataframe\">\n",
              "  <thead>\n",
              "    <tr style=\"text-align: right;\">\n",
              "      <th></th>\n",
              "      <th>GameID</th>\n",
              "      <th>LeagueIndex</th>\n",
              "      <th>Age</th>\n",
              "      <th>HoursPerWeek</th>\n",
              "      <th>TotalHours</th>\n",
              "      <th>APM</th>\n",
              "      <th>SelectByHotkeys</th>\n",
              "      <th>AssignToHotkeys</th>\n",
              "      <th>UniqueHotkeys</th>\n",
              "      <th>MinimapAttacks</th>\n",
              "      <th>MinimapRightClicks</th>\n",
              "      <th>NumberOfPACs</th>\n",
              "      <th>GapBetweenPACs</th>\n",
              "      <th>ActionLatency</th>\n",
              "      <th>ActionsInPAC</th>\n",
              "      <th>TotalMapExplored</th>\n",
              "      <th>WorkersMade</th>\n",
              "      <th>UniqueUnitsMade</th>\n",
              "      <th>ComplexUnitsMade</th>\n",
              "      <th>ComplexAbilitiesUsed</th>\n",
              "    </tr>\n",
              "  </thead>\n",
              "  <tbody>\n",
              "    <tr>\n",
              "      <th>3340</th>\n",
              "      <td>10001</td>\n",
              "      <td>8</td>\n",
              "      <td>0</td>\n",
              "      <td>70</td>\n",
              "      <td>0</td>\n",
              "      <td>189.7404</td>\n",
              "      <td>0.004582</td>\n",
              "      <td>0.000655</td>\n",
              "      <td>4</td>\n",
              "      <td>0.000073</td>\n",
              "      <td>0.000618</td>\n",
              "      <td>0.006291</td>\n",
              "      <td>23.5130</td>\n",
              "      <td>32.5665</td>\n",
              "      <td>4.4451</td>\n",
              "      <td>25</td>\n",
              "      <td>0.002218</td>\n",
              "      <td>6</td>\n",
              "      <td>0.000000</td>\n",
              "      <td>0.0</td>\n",
              "    </tr>\n",
              "    <tr>\n",
              "      <th>3341</th>\n",
              "      <td>10005</td>\n",
              "      <td>8</td>\n",
              "      <td>0</td>\n",
              "      <td>70</td>\n",
              "      <td>0</td>\n",
              "      <td>287.8128</td>\n",
              "      <td>0.029040</td>\n",
              "      <td>0.001041</td>\n",
              "      <td>9</td>\n",
              "      <td>0.000231</td>\n",
              "      <td>0.000656</td>\n",
              "      <td>0.005399</td>\n",
              "      <td>31.6416</td>\n",
              "      <td>36.1143</td>\n",
              "      <td>4.5893</td>\n",
              "      <td>34</td>\n",
              "      <td>0.001138</td>\n",
              "      <td>6</td>\n",
              "      <td>0.000058</td>\n",
              "      <td>0.0</td>\n",
              "    </tr>\n",
              "    <tr>\n",
              "      <th>3342</th>\n",
              "      <td>10006</td>\n",
              "      <td>8</td>\n",
              "      <td>0</td>\n",
              "      <td>70</td>\n",
              "      <td>0</td>\n",
              "      <td>294.0996</td>\n",
              "      <td>0.029640</td>\n",
              "      <td>0.001076</td>\n",
              "      <td>6</td>\n",
              "      <td>0.000302</td>\n",
              "      <td>0.002374</td>\n",
              "      <td>0.006294</td>\n",
              "      <td>16.6393</td>\n",
              "      <td>36.8192</td>\n",
              "      <td>4.1850</td>\n",
              "      <td>26</td>\n",
              "      <td>0.000987</td>\n",
              "      <td>6</td>\n",
              "      <td>0.000000</td>\n",
              "      <td>0.0</td>\n",
              "    </tr>\n",
              "    <tr>\n",
              "      <th>3343</th>\n",
              "      <td>10015</td>\n",
              "      <td>8</td>\n",
              "      <td>0</td>\n",
              "      <td>70</td>\n",
              "      <td>0</td>\n",
              "      <td>274.2552</td>\n",
              "      <td>0.018121</td>\n",
              "      <td>0.001264</td>\n",
              "      <td>8</td>\n",
              "      <td>0.000053</td>\n",
              "      <td>0.000975</td>\n",
              "      <td>0.007111</td>\n",
              "      <td>10.6419</td>\n",
              "      <td>24.3556</td>\n",
              "      <td>4.3870</td>\n",
              "      <td>28</td>\n",
              "      <td>0.001106</td>\n",
              "      <td>6</td>\n",
              "      <td>0.000000</td>\n",
              "      <td>0.0</td>\n",
              "    </tr>\n",
              "    <tr>\n",
              "      <th>3344</th>\n",
              "      <td>10016</td>\n",
              "      <td>8</td>\n",
              "      <td>0</td>\n",
              "      <td>70</td>\n",
              "      <td>0</td>\n",
              "      <td>274.3404</td>\n",
              "      <td>0.023131</td>\n",
              "      <td>0.000739</td>\n",
              "      <td>8</td>\n",
              "      <td>0.000622</td>\n",
              "      <td>0.003552</td>\n",
              "      <td>0.005355</td>\n",
              "      <td>19.1568</td>\n",
              "      <td>36.3098</td>\n",
              "      <td>5.2811</td>\n",
              "      <td>28</td>\n",
              "      <td>0.000739</td>\n",
              "      <td>6</td>\n",
              "      <td>0.000000</td>\n",
              "      <td>0.0</td>\n",
              "    </tr>\n",
              "  </tbody>\n",
              "</table>\n",
              "</div>\n",
              "      <button class=\"colab-df-convert\" onclick=\"convertToInteractive('df-149e4329-1a97-4e36-ac75-c46c462e2534')\"\n",
              "              title=\"Convert this dataframe to an interactive table.\"\n",
              "              style=\"display:none;\">\n",
              "        \n",
              "  <svg xmlns=\"http://www.w3.org/2000/svg\" height=\"24px\"viewBox=\"0 0 24 24\"\n",
              "       width=\"24px\">\n",
              "    <path d=\"M0 0h24v24H0V0z\" fill=\"none\"/>\n",
              "    <path d=\"M18.56 5.44l.94 2.06.94-2.06 2.06-.94-2.06-.94-.94-2.06-.94 2.06-2.06.94zm-11 1L8.5 8.5l.94-2.06 2.06-.94-2.06-.94L8.5 2.5l-.94 2.06-2.06.94zm10 10l.94 2.06.94-2.06 2.06-.94-2.06-.94-.94-2.06-.94 2.06-2.06.94z\"/><path d=\"M17.41 7.96l-1.37-1.37c-.4-.4-.92-.59-1.43-.59-.52 0-1.04.2-1.43.59L10.3 9.45l-7.72 7.72c-.78.78-.78 2.05 0 2.83L4 21.41c.39.39.9.59 1.41.59.51 0 1.02-.2 1.41-.59l7.78-7.78 2.81-2.81c.8-.78.8-2.07 0-2.86zM5.41 20L4 18.59l7.72-7.72 1.47 1.35L5.41 20z\"/>\n",
              "  </svg>\n",
              "      </button>\n",
              "      \n",
              "  <style>\n",
              "    .colab-df-container {\n",
              "      display:flex;\n",
              "      flex-wrap:wrap;\n",
              "      gap: 12px;\n",
              "    }\n",
              "\n",
              "    .colab-df-convert {\n",
              "      background-color: #E8F0FE;\n",
              "      border: none;\n",
              "      border-radius: 50%;\n",
              "      cursor: pointer;\n",
              "      display: none;\n",
              "      fill: #1967D2;\n",
              "      height: 32px;\n",
              "      padding: 0 0 0 0;\n",
              "      width: 32px;\n",
              "    }\n",
              "\n",
              "    .colab-df-convert:hover {\n",
              "      background-color: #E2EBFA;\n",
              "      box-shadow: 0px 1px 2px rgba(60, 64, 67, 0.3), 0px 1px 3px 1px rgba(60, 64, 67, 0.15);\n",
              "      fill: #174EA6;\n",
              "    }\n",
              "\n",
              "    [theme=dark] .colab-df-convert {\n",
              "      background-color: #3B4455;\n",
              "      fill: #D2E3FC;\n",
              "    }\n",
              "\n",
              "    [theme=dark] .colab-df-convert:hover {\n",
              "      background-color: #434B5C;\n",
              "      box-shadow: 0px 1px 3px 1px rgba(0, 0, 0, 0.15);\n",
              "      filter: drop-shadow(0px 1px 2px rgba(0, 0, 0, 0.3));\n",
              "      fill: #FFFFFF;\n",
              "    }\n",
              "  </style>\n",
              "\n",
              "      <script>\n",
              "        const buttonEl =\n",
              "          document.querySelector('#df-149e4329-1a97-4e36-ac75-c46c462e2534 button.colab-df-convert');\n",
              "        buttonEl.style.display =\n",
              "          google.colab.kernel.accessAllowed ? 'block' : 'none';\n",
              "\n",
              "        async function convertToInteractive(key) {\n",
              "          const element = document.querySelector('#df-149e4329-1a97-4e36-ac75-c46c462e2534');\n",
              "          const dataTable =\n",
              "            await google.colab.kernel.invokeFunction('convertToInteractive',\n",
              "                                                     [key], {});\n",
              "          if (!dataTable) return;\n",
              "\n",
              "          const docLinkHtml = 'Like what you see? Visit the ' +\n",
              "            '<a target=\"_blank\" href=https://colab.research.google.com/notebooks/data_table.ipynb>data table notebook</a>'\n",
              "            + ' to learn more about interactive tables.';\n",
              "          element.innerHTML = '';\n",
              "          dataTable['output_type'] = 'display_data';\n",
              "          await google.colab.output.renderOutput(dataTable, element);\n",
              "          const docLink = document.createElement('div');\n",
              "          docLink.innerHTML = docLinkHtml;\n",
              "          element.appendChild(docLink);\n",
              "        }\n",
              "      </script>\n",
              "    </div>\n",
              "  </div>\n",
              "  "
            ]
          },
          "metadata": {},
          "execution_count": 270
        }
      ]
    },
    {
      "cell_type": "code",
      "source": [
        "starcraft_df = starcraft_df.drop(starcraft_df[starcraft_df.HoursPerWeek == '?'].index)\n",
        "\n",
        "len(starcraft_df)"
      ],
      "metadata": {
        "colab": {
          "base_uri": "https://localhost:8080/"
        },
        "id": "8fO8aAcEM6_v",
        "outputId": "b1a2cd17-28e5-4306-ad95-af2bf1e6f396"
      },
      "execution_count": 271,
      "outputs": [
        {
          "output_type": "execute_result",
          "data": {
            "text/plain": [
              "3394"
            ]
          },
          "metadata": {},
          "execution_count": 271
        }
      ]
    },
    {
      "cell_type": "code",
      "source": [
        "starcraft_df = starcraft_df.drop(starcraft_df[starcraft_df.TotalHours == '?'].index)\n",
        "\n",
        "len(starcraft_df)"
      ],
      "metadata": {
        "colab": {
          "base_uri": "https://localhost:8080/"
        },
        "id": "P6_Xj8obNECW",
        "outputId": "dcf84290-bdc0-48ee-db36-04c93736a812"
      },
      "execution_count": 272,
      "outputs": [
        {
          "output_type": "execute_result",
          "data": {
            "text/plain": [
              "3393"
            ]
          },
          "metadata": {},
          "execution_count": 272
        }
      ]
    },
    {
      "cell_type": "code",
      "source": [
        "starcraft_df.LeagueIndex.value_counts()"
      ],
      "metadata": {
        "colab": {
          "base_uri": "https://localhost:8080/"
        },
        "id": "TKGrfP-nNOTm",
        "outputId": "a65cb8cc-72d2-42ad-8ee5-8508b9e8ca6f"
      },
      "execution_count": 227,
      "outputs": [
        {
          "output_type": "execute_result",
          "data": {
            "text/plain": [
              "4    811\n",
              "5    804\n",
              "6    621\n",
              "3    553\n",
              "2    347\n",
              "1    167\n",
              "8     55\n",
              "7     35\n",
              "Name: LeagueIndex, dtype: int64"
            ]
          },
          "metadata": {},
          "execution_count": 227
        }
      ]
    },
    {
      "cell_type": "markdown",
      "source": [
        "Retained the professional class and deleted only 2 pieces of data that might not work\n",
        "\n",
        "Now, I want to clean up the columns which do not have a strong statistical correlation and can be ignored. "
      ],
      "metadata": {
        "id": "imUD1FgtNVEx"
      }
    },
    {
      "cell_type": "code",
      "source": [
        "temp_df = starcraft_df.drop(['GapBetweenPACs', 'ActionLatency'], axis = 1)\n",
        "\n",
        "starcraft_df = temp_df"
      ],
      "metadata": {
        "id": "7o5b17TyNUPu"
      },
      "execution_count": 273,
      "outputs": []
    },
    {
      "cell_type": "markdown",
      "source": [
        "## Second Round of Data Exploration\n",
        "\n",
        "Taking a look at what the small changes have done and whether we can get back good results from editting Age, HoursPerWeek and TotalHours"
      ],
      "metadata": {
        "id": "A_CmXKtHOXm-"
      }
    },
    {
      "cell_type": "code",
      "source": [
        "starcraft_df.corr().LeagueIndex.sort_values(ascending = False)"
      ],
      "metadata": {
        "colab": {
          "base_uri": "https://localhost:8080/"
        },
        "id": "Ib6gghh1QQfi",
        "outputId": "5f6162a2-081c-4dac-9f1a-7b1a87cb7a77"
      },
      "execution_count": 274,
      "outputs": [
        {
          "output_type": "stream",
          "name": "stderr",
          "text": [
            "<ipython-input-274-c684097342d1>:1: FutureWarning: The default value of numeric_only in DataFrame.corr is deprecated. In a future version, it will default to False. Select only valid columns or specify the value of numeric_only to silence this warning.\n",
            "  starcraft_df.corr().LeagueIndex.sort_values(ascending = False)\n"
          ]
        },
        {
          "output_type": "execute_result",
          "data": {
            "text/plain": [
              "LeagueIndex             1.000000\n",
              "APM                     0.662438\n",
              "NumberOfPACs            0.612260\n",
              "AssignToHotkeys         0.531105\n",
              "SelectByHotkeys         0.490604\n",
              "UniqueHotkeys           0.351461\n",
              "MinimapAttacks          0.312762\n",
              "WorkersMade             0.295754\n",
              "MinimapRightClicks      0.233432\n",
              "TotalMapExplored        0.220534\n",
              "ComplexUnitsMade        0.148875\n",
              "ComplexAbilitiesUsed    0.145656\n",
              "ActionsInPAC            0.143398\n",
              "UniqueUnitsMade         0.133625\n",
              "GameID                  0.102831\n",
              "Name: LeagueIndex, dtype: float64"
            ]
          },
          "metadata": {},
          "execution_count": 274
        }
      ]
    },
    {
      "cell_type": "markdown",
      "source": [
        "In reality, GameID probably would not do well on new data and therefore, we can also remove this. "
      ],
      "metadata": {
        "id": "YlqF0ODPQbLF"
      }
    },
    {
      "cell_type": "code",
      "source": [
        "starcraft_df.Age"
      ],
      "metadata": {
        "colab": {
          "base_uri": "https://localhost:8080/"
        },
        "id": "MRNKCxY0N3WG",
        "outputId": "f851fb8b-188d-4d9f-c068-13109b443968"
      },
      "execution_count": 230,
      "outputs": [
        {
          "output_type": "execute_result",
          "data": {
            "text/plain": [
              "0       27\n",
              "1       23\n",
              "2       30\n",
              "3       19\n",
              "4       32\n",
              "        ..\n",
              "3390     0\n",
              "3391     0\n",
              "3392     0\n",
              "3393     0\n",
              "3394     0\n",
              "Name: Age, Length: 3393, dtype: object"
            ]
          },
          "metadata": {},
          "execution_count": 230
        }
      ]
    },
    {
      "cell_type": "code",
      "source": [
        "starcraft_df.HoursPerWeek"
      ],
      "metadata": {
        "colab": {
          "base_uri": "https://localhost:8080/"
        },
        "id": "askC-VpvOwNu",
        "outputId": "89a3ed53-5bfa-430a-d814-65030b03b99b"
      },
      "execution_count": 231,
      "outputs": [
        {
          "output_type": "execute_result",
          "data": {
            "text/plain": [
              "0       10\n",
              "1       10\n",
              "2       10\n",
              "3       20\n",
              "4       10\n",
              "        ..\n",
              "3390    70\n",
              "3391    70\n",
              "3392    70\n",
              "3393    70\n",
              "3394    70\n",
              "Name: HoursPerWeek, Length: 3393, dtype: object"
            ]
          },
          "metadata": {},
          "execution_count": 231
        }
      ]
    },
    {
      "cell_type": "code",
      "source": [
        "starcraft_df.TotalHours"
      ],
      "metadata": {
        "colab": {
          "base_uri": "https://localhost:8080/"
        },
        "id": "Cm8wDbnoP5ul",
        "outputId": "1bf8f0dc-e694-4fa6-eb60-fb33664ec533"
      },
      "execution_count": 232,
      "outputs": [
        {
          "output_type": "execute_result",
          "data": {
            "text/plain": [
              "0       3000\n",
              "1       5000\n",
              "2        200\n",
              "3        400\n",
              "4        500\n",
              "        ... \n",
              "3390       0\n",
              "3391       0\n",
              "3392       0\n",
              "3393       0\n",
              "3394       0\n",
              "Name: TotalHours, Length: 3393, dtype: object"
            ]
          },
          "metadata": {},
          "execution_count": 232
        }
      ]
    },
    {
      "cell_type": "markdown",
      "source": [
        "One issue here that is affecting getting the correlation of this and most likely still causing the pop-up of the deprecated warning is that the dtype of these columns are objects rather than integers/floats.\n",
        "\n",
        "## Some more data clean up and transformation on columns"
      ],
      "metadata": {
        "id": "KDHEZZIYQADq"
      }
    },
    {
      "cell_type": "code",
      "source": [
        "temp_df = starcraft_df.drop('GameID', axis = 1)"
      ],
      "metadata": {
        "id": "Apz26wMFP-nk"
      },
      "execution_count": 275,
      "outputs": []
    },
    {
      "cell_type": "code",
      "source": [
        "temp_df['Age'] = temp_df['Age'].astype(int)\n",
        "temp_df['HoursPerWeek'] = temp_df['HoursPerWeek'].astype(int)\n",
        "temp_df['TotalHours'] = temp_df['TotalHours'].astype(int)"
      ],
      "metadata": {
        "id": "g_GwGpUURV_V"
      },
      "execution_count": 276,
      "outputs": []
    },
    {
      "cell_type": "code",
      "source": [
        "starcraft_df = temp_df"
      ],
      "metadata": {
        "id": "Tc_z5OdWRl5c"
      },
      "execution_count": 277,
      "outputs": []
    },
    {
      "cell_type": "markdown",
      "source": [
        "## Checking if data is ok for first attempt of model building"
      ],
      "metadata": {
        "id": "w8FnSH0OR6ca"
      }
    },
    {
      "cell_type": "code",
      "source": [
        "starcraft_df.corr().LeagueIndex"
      ],
      "metadata": {
        "colab": {
          "base_uri": "https://localhost:8080/"
        },
        "id": "bpqdOetqR5Ir",
        "outputId": "7b8a4487-a1f1-421d-b0c9-ab13708d42fb"
      },
      "execution_count": 236,
      "outputs": [
        {
          "output_type": "execute_result",
          "data": {
            "text/plain": [
              "LeagueIndex             1.000000\n",
              "Age                    -0.277910\n",
              "HoursPerWeek            0.339824\n",
              "TotalHours              0.020324\n",
              "APM                     0.662438\n",
              "SelectByHotkeys         0.490604\n",
              "AssignToHotkeys         0.531105\n",
              "UniqueHotkeys           0.351461\n",
              "MinimapAttacks          0.312762\n",
              "MinimapRightClicks      0.233432\n",
              "NumberOfPACs            0.612260\n",
              "ActionsInPAC            0.143398\n",
              "TotalMapExplored        0.220534\n",
              "WorkersMade             0.295754\n",
              "UniqueUnitsMade         0.133625\n",
              "ComplexUnitsMade        0.148875\n",
              "ComplexAbilitiesUsed    0.145656\n",
              "Name: LeagueIndex, dtype: float64"
            ]
          },
          "metadata": {},
          "execution_count": 236
        }
      ]
    },
    {
      "cell_type": "markdown",
      "source": [
        "Appears that though an assumption was made on the Age, it serves to not have much statistical correlation to a person's rank. In addition, the total hours played does not have much significance in the dataset but the hours played on a weekly basis does."
      ],
      "metadata": {
        "id": "vYjlSRBbSNJD"
      }
    },
    {
      "cell_type": "code",
      "source": [
        "temp_df = starcraft_df.drop(['Age', 'TotalHours'], axis = 1)\n",
        "\n",
        "starcraft_df = temp_df"
      ],
      "metadata": {
        "id": "SpdiImudSDyD"
      },
      "execution_count": 278,
      "outputs": []
    },
    {
      "cell_type": "code",
      "source": [
        "starcraft_df.corr().LeagueIndex.sort_values(ascending = False)"
      ],
      "metadata": {
        "colab": {
          "base_uri": "https://localhost:8080/"
        },
        "id": "HqxsXGXNSmyV",
        "outputId": "84eda217-46e4-4df7-cc7e-96f9d4346728"
      },
      "execution_count": 238,
      "outputs": [
        {
          "output_type": "execute_result",
          "data": {
            "text/plain": [
              "LeagueIndex             1.000000\n",
              "APM                     0.662438\n",
              "NumberOfPACs            0.612260\n",
              "AssignToHotkeys         0.531105\n",
              "SelectByHotkeys         0.490604\n",
              "UniqueHotkeys           0.351461\n",
              "HoursPerWeek            0.339824\n",
              "MinimapAttacks          0.312762\n",
              "WorkersMade             0.295754\n",
              "MinimapRightClicks      0.233432\n",
              "TotalMapExplored        0.220534\n",
              "ComplexUnitsMade        0.148875\n",
              "ComplexAbilitiesUsed    0.145656\n",
              "ActionsInPAC            0.143398\n",
              "UniqueUnitsMade         0.133625\n",
              "Name: LeagueIndex, dtype: float64"
            ]
          },
          "metadata": {},
          "execution_count": 238
        }
      ]
    },
    {
      "cell_type": "markdown",
      "source": [
        "## Non-Parametric Base Model Testing\n",
        "\n",
        "After cleaning our data, all remaining features are statistically significant.\n",
        "While looking through the class distribution, it was determined as not being able to fit as a normal distribution. I will test this by using non-parametric models first.\n",
        "\n",
        "```\n",
        "# This is formatted as code\n",
        "```\n",
        "\n"
      ],
      "metadata": {
        "id": "CbWL1ynbTV3j"
      }
    },
    {
      "cell_type": "code",
      "source": [
        "import sklearn\n",
        "from sklearn.model_selection import train_test_split\n",
        "\n",
        "X = starcraft_df.drop(['LeagueIndex'], axis = 1)\n",
        "y = starcraft_df.LeagueIndex\n",
        "\n",
        "X_train, X_test, y_train, y_test = train_test_split(X, y, train_size = 0.80)"
      ],
      "metadata": {
        "id": "t0LYGf8yS-9k"
      },
      "execution_count": 279,
      "outputs": []
    },
    {
      "cell_type": "code",
      "source": [
        "from sklearn.neighbors import KNeighborsClassifier as KNN\n",
        "\n",
        "neighbors = [1, 5, 10, 15, 20, 25, 30, 50, 100, 200]\n",
        "results = []\n",
        "for neighbor in neighbors:\n",
        "  model = KNN(n_neighbors = neighbor,\n",
        "              weights = 'uniform')\n",
        "\n",
        "  model.fit(X_train, y_train)\n",
        "  results.append(model.score(X_test, y_test))\n",
        "\n",
        "results"
      ],
      "metadata": {
        "colab": {
          "base_uri": "https://localhost:8080/"
        },
        "id": "SykIBoMeYx_i",
        "outputId": "f67fc279-fa24-40fa-bbc6-08f2b4781ddf"
      },
      "execution_count": 282,
      "outputs": [
        {
          "output_type": "execute_result",
          "data": {
            "text/plain": [
              "[0.2768777614138439,\n",
              " 0.27982326951399117,\n",
              " 0.3328424153166421,\n",
              " 0.3284241531664212,\n",
              " 0.34609720176730485,\n",
              " 0.35051546391752575,\n",
              " 0.36671575846833576,\n",
              " 0.34167893961708395,\n",
              " 0.3431516936671576,\n",
              " 0.35787923416789397]"
            ]
          },
          "metadata": {},
          "execution_count": 282
        }
      ]
    },
    {
      "cell_type": "markdown",
      "source": [
        "Though the results do not come as impressive, it seems adding more neighbors has been an upwards trend.\n",
        "\n",
        "I'll try another non-parametric algorithm, the Random Forest, to see if there are any significant changes."
      ],
      "metadata": {
        "id": "om-Rlw2manBY"
      }
    },
    {
      "cell_type": "code",
      "source": [
        "from sklearn.ensemble import RandomForestClassifier\n",
        "\n",
        "trees = [1, 5, 10, 15, 20, 25, 30, 50, 100, 200, 300, 400, 500]\n",
        "results = []\n",
        "\n",
        "for tree in trees:\n",
        "  model = RandomForestClassifier(n_estimators = tree,\n",
        "                                 criterion = 'entropy',\n",
        "                                 class_weight = 'balanced',\n",
        "                                 )\n",
        "  \n",
        "  model.fit(X_train, y_train)\n",
        "  results.append(model.score(X_test, y_test))\n",
        "\n",
        "results"
      ],
      "metadata": {
        "colab": {
          "base_uri": "https://localhost:8080/"
        },
        "id": "uMxRMd0JZ__i",
        "outputId": "80b82e8a-5515-43b3-863b-928c1612b37c"
      },
      "execution_count": 283,
      "outputs": [
        {
          "output_type": "execute_result",
          "data": {
            "text/plain": [
              "[0.31516936671575846,\n",
              " 0.3181148748159057,\n",
              " 0.3696612665684831,\n",
              " 0.36671575846833576,\n",
              " 0.3593519882179676,\n",
              " 0.4005891016200295,\n",
              " 0.3784977908689249,\n",
              " 0.3637702503681885,\n",
              " 0.41237113402061853,\n",
              " 0.3799705449189985,\n",
              " 0.3946980854197349,\n",
              " 0.3873343151693667,\n",
              " 0.3858615611192931]"
            ]
          },
          "metadata": {},
          "execution_count": 283
        }
      ]
    },
    {
      "cell_type": "markdown",
      "source": [
        "Generally, while testing the random forest classifier, the results have been better than using the KNN Classifier, especially when increasing the number of estimators.\n",
        "\n",
        "This may be due to:\n",
        "1. Noise (It was examined earlier that there were several outliers when it came to the classes though we did not examine the features themselves)\n",
        "2. No exact linear relationship in the classes\n",
        "3. More data to process\n",
        "\n",
        "Another thing to note is that the Random Forest training takes longer than the KNN, but the tradeoff in computation speed is not significant.\n",
        "\n",
        "The last non-parametric base model I'll try with is the SVM Classifier. "
      ],
      "metadata": {
        "id": "NuO9zya9b8qs"
      }
    },
    {
      "cell_type": "code",
      "source": [
        "from sklearn.svm import SVC\n",
        "from sklearn.model_selection import GridSearchCV\n",
        "\n",
        "\n",
        "regularizations = [1.0, 2.0, 5.0, 10.0, 20.0, 50.0, 100.0]\n",
        "\n",
        "gamma = [0.0001, 0.001, 0.01, 0.1, 1.0]\n",
        "\n",
        "grid = {'C': regularizations, 'gamma': gamma}\n",
        "\n",
        "model = SVC(kernel = 'rbf',\n",
        "            class_weight = None)\n",
        "\n",
        "grid_search = GridSearchCV(model, grid, cv=5)\n",
        "\n",
        "grid_search.fit(X_train, y_train)\n",
        "\n",
        "grid_search.best_params_\n"
      ],
      "metadata": {
        "colab": {
          "base_uri": "https://localhost:8080/"
        },
        "id": "-DsHwMk7e9A_",
        "outputId": "7265f4b4-9404-4c06-cc72-295f1532bde3"
      },
      "execution_count": 244,
      "outputs": [
        {
          "output_type": "execute_result",
          "data": {
            "text/plain": [
              "{'C': 100.0, 'gamma': 0.0001}"
            ]
          },
          "metadata": {},
          "execution_count": 244
        }
      ]
    },
    {
      "cell_type": "code",
      "source": [
        "model = SVC(C = 100.0,\n",
        "            gamma = 0.0001,\n",
        "            kernel = 'rbf',\n",
        "            class_weight = None)\n",
        "\n",
        "model.fit(X_train, y_train)\n",
        "\n",
        "model.score(X_test, y_test)"
      ],
      "metadata": {
        "colab": {
          "base_uri": "https://localhost:8080/"
        },
        "id": "vxXioFm5p2Ec",
        "outputId": "6a5402c5-b442-4ef5-dd9f-0223b3449a4e"
      },
      "execution_count": 246,
      "outputs": [
        {
          "output_type": "execute_result",
          "data": {
            "text/plain": [
              "0.3402061855670103"
            ]
          },
          "metadata": {},
          "execution_count": 246
        }
      ]
    },
    {
      "cell_type": "markdown",
      "source": [
        "Performance of the SVM with a RBF kernel still does not perform better than the Random Forest. In addition, making the class weight to 'balanced' causes the test accuracy to drop by 10% while adjusting the class weight on the Random Forest Classifier does not result in any significant changes. This may be caused by the data not being able to separate the classes clearly. "
      ],
      "metadata": {
        "id": "pP8f8VQpmgnr"
      }
    },
    {
      "cell_type": "markdown",
      "source": [
        "## Parametric Base Model Testing\n",
        "\n",
        "I'll do a few tests with parametric classifiers now to see how I can be changing the data further in order to represent the model more accurately. I'll be working with a classic Logistic Regression and a linear SGD Classifier"
      ],
      "metadata": {
        "id": "uFFNZZiLn7s2"
      }
    },
    {
      "cell_type": "code",
      "source": [
        "from sklearn.linear_model import LogisticRegression\n",
        "\n",
        "regularizations = [1.0, 2.0, 5.0, 10.0, 20.0, 50.0, 100.0]\n",
        "results = []\n",
        "for c in regularizations:\n",
        "  model = LogisticRegression(C = c,\n",
        "                             max_iter = 500,\n",
        "                             solver = 'newton-cg',\n",
        "                             penalty = 'l2')\n",
        "  \n",
        "  model.fit(X_train, y_train)\n",
        "\n",
        "  results.append(model.score(X_test, y_test))\n",
        "\n",
        "results"
      ],
      "metadata": {
        "colab": {
          "base_uri": "https://localhost:8080/"
        },
        "id": "fR631FKYkuwP",
        "outputId": "23eac478-885e-4cc0-ae37-ad87d364ea17"
      },
      "execution_count": 280,
      "outputs": [
        {
          "output_type": "execute_result",
          "data": {
            "text/plain": [
              "[0.4020618556701031,\n",
              " 0.4020618556701031,\n",
              " 0.4020618556701031,\n",
              " 0.4020618556701031,\n",
              " 0.4020618556701031,\n",
              " 0.3961708394698085,\n",
              " 0.3946980854197349]"
            ]
          },
          "metadata": {},
          "execution_count": 280
        }
      ]
    },
    {
      "cell_type": "markdown",
      "source": [
        "The same problem occurs with the Logistic Regression on the class weights. When changed to 'balanced', the accuracy significantly decreases by 10%."
      ],
      "metadata": {
        "id": "Ow8Fzj-1yVGe"
      }
    },
    {
      "cell_type": "code",
      "source": [
        "from sklearn.linear_model import SGDClassifier\n",
        "\n",
        "alpha_rates = [0.0001, 0.001, 0.01, 0.1, 1.0]\n",
        "results = []\n",
        "\n",
        "for alpha in alpha_rates:\n",
        "  model = SGDClassifier(loss = 'hinge',\n",
        "                        penalty = 'l2',\n",
        "                        alpha = alpha,\n",
        "                        )\n",
        "  \n",
        "  model.fit(X_train, y_train)\n",
        "\n",
        "  results.append(model.score(X_test, y_test))\n",
        "\n",
        "results"
      ],
      "metadata": {
        "colab": {
          "base_uri": "https://localhost:8080/"
        },
        "id": "fzEGWY14wVdB",
        "outputId": "21f16641-c161-4532-ff62-314e6263ec21"
      },
      "execution_count": 281,
      "outputs": [
        {
          "output_type": "execute_result",
          "data": {
            "text/plain": [
              "[0.16200294550810015,\n",
              " 0.3122238586156112,\n",
              " 0.32989690721649484,\n",
              " 0.28424153166421207,\n",
              " 0.3225331369661267]"
            ]
          },
          "metadata": {},
          "execution_count": 281
        }
      ]
    },
    {
      "cell_type": "markdown",
      "source": [
        "The SGD Classifier does not perform great at all, but summarizing the results of the tests.\n",
        "\n",
        "1. The Random Forest Classifier performed the best for the non-parametric classifiers, reaching around 41%.\n",
        "2. The Logistic Classifier performed the best for the parametric classifiers, which performed similarily to the Random Forest Classifier, sitting at 40% accuracy.\n",
        "3. There seems to be an issue with when class weights are changed to be balanced despite the classes are inbalanced.\n",
        "\n",
        "## Further Transformations to Dataset\n",
        "\n",
        "Proposals for transformations on our data to improve accuracy:\n",
        "1. Add in dummy data to classes 7 and 8 to replicate 1 and 2 to achieve a normal distribution in classes.\n",
        "2. To remove the impact of outliers, going to apply a square root on all data other than the label\n",
        "3. Standardize the data using a StandardScaler."
      ],
      "metadata": {
        "id": "ZMhQkz6A14G_"
      }
    },
    {
      "cell_type": "code",
      "source": [
        "# Proposal 1: Adding in dummy data is achieved by getting the mean across the class\n",
        "\n",
        "class_7 = starcraft_df[starcraft_df['LeagueIndex'] == 7]\n",
        "class_8 = starcraft_df[starcraft_df['LeagueIndex'] == 8]\n",
        "\n",
        "class_7_mean_avg = class_7.mean()\n",
        "class_8_mean_avg = class_8.mean()\n",
        "\n",
        "# going to add approximately 300 samples of 7 and 100 samples of class 8 and observe the changes\n",
        "dummy_samples_7 = 300\n",
        "dummy_samples_8 = 100\n",
        "dummy_df = pd.concat([pd.DataFrame([class_7_mean_avg] * dummy_samples_7), starcraft_df], ignore_index = True)\n",
        "dummy_df = pd.concat([pd.DataFrame([class_8_mean_avg] * dummy_samples_8), dummy_df], ignore_index = True)"
      ],
      "metadata": {
        "id": "JPT66TSN0SWg"
      },
      "execution_count": 284,
      "outputs": []
    },
    {
      "cell_type": "code",
      "source": [
        "dummy_df.LeagueIndex.value_counts()"
      ],
      "metadata": {
        "colab": {
          "base_uri": "https://localhost:8080/"
        },
        "id": "tdyzDi3d68h4",
        "outputId": "d23f75e8-e0b6-46a0-d696-cc299fa53e85"
      },
      "execution_count": 285,
      "outputs": [
        {
          "output_type": "execute_result",
          "data": {
            "text/plain": [
              "4.0    811\n",
              "5.0    804\n",
              "6.0    621\n",
              "3.0    553\n",
              "2.0    347\n",
              "7.0    335\n",
              "1.0    167\n",
              "8.0    155\n",
              "Name: LeagueIndex, dtype: int64"
            ]
          },
          "metadata": {},
          "execution_count": 285
        }
      ]
    },
    {
      "cell_type": "code",
      "source": [
        "starcraft_df.LeagueIndex.value_counts()"
      ],
      "metadata": {
        "colab": {
          "base_uri": "https://localhost:8080/"
        },
        "id": "ZutQT9l97O9N",
        "outputId": "148afe3e-e253-4a3e-aa51-2e1e71e17773"
      },
      "execution_count": 286,
      "outputs": [
        {
          "output_type": "execute_result",
          "data": {
            "text/plain": [
              "4    811\n",
              "5    804\n",
              "6    621\n",
              "3    553\n",
              "2    347\n",
              "1    167\n",
              "8     55\n",
              "7     35\n",
              "Name: LeagueIndex, dtype: int64"
            ]
          },
          "metadata": {},
          "execution_count": 286
        }
      ]
    },
    {
      "cell_type": "code",
      "source": [
        "starcraft_df = dummy_df"
      ],
      "metadata": {
        "id": "ET7jpcjt9P7s"
      },
      "execution_count": 287,
      "outputs": []
    },
    {
      "cell_type": "code",
      "source": [
        "len(starcraft_df)"
      ],
      "metadata": {
        "colab": {
          "base_uri": "https://localhost:8080/"
        },
        "id": "HAkDF0l-FmMh",
        "outputId": "0dd2c396-561a-4df8-f3c9-54c08fe9d8c8"
      },
      "execution_count": 288,
      "outputs": [
        {
          "output_type": "execute_result",
          "data": {
            "text/plain": [
              "3793"
            ]
          },
          "metadata": {},
          "execution_count": 288
        }
      ]
    },
    {
      "cell_type": "code",
      "source": [
        "# Transforming by taking the square root to remove significance of outliers\n",
        "\n",
        "import numpy as np\n",
        "\n",
        "X_train, X_test, y_train, y_test = train_test_split(starcraft_df.drop('LeagueIndex', axis = 1),\n",
        "                                                    starcraft_df.LeagueIndex,\n",
        "                                                    train_size = 0.80)\n",
        "\n",
        "X_train, X_test = np.sqrt(X_train), np.sqrt(X_test)"
      ],
      "metadata": {
        "id": "VHVK-PpfFoZa"
      },
      "execution_count": 289,
      "outputs": []
    },
    {
      "cell_type": "code",
      "source": [
        "# Experiment with the Logistic Classifier\n",
        "from sklearn.preprocessing import StandardScaler\n",
        "from sklearn.pipeline import make_pipeline\n",
        "\n",
        "regularizations = [1.0, 2.0, 5.0, 10.0, 20.0, 50.0, 100.0]\n",
        "results = []\n",
        "for c in regularizations:\n",
        "  pipe = make_pipeline(StandardScaler(),\n",
        "                       LogisticRegression(C = c,\n",
        "                                          max_iter = 500,\n",
        "                                          solver = 'newton-cg',\n",
        "                                          penalty = 'l2',\n",
        "                                          class_weight = 'balanced'),\n",
        "                      )\n",
        "\n",
        "  pipe.fit(X_train, y_train)\n",
        "\n",
        "  results.append(pipe.score(X_test, y_test))\n",
        "\n",
        "results"
      ],
      "metadata": {
        "colab": {
          "base_uri": "https://localhost:8080/"
        },
        "id": "EKH5svtyH2yo",
        "outputId": "c08dc8b5-eb28-4615-d309-0665a20afb23"
      },
      "execution_count": 297,
      "outputs": [
        {
          "output_type": "execute_result",
          "data": {
            "text/plain": [
              "[0.44664031620553357,\n",
              " 0.4453227931488801,\n",
              " 0.4440052700922266,\n",
              " 0.4440052700922266,\n",
              " 0.4413702239789196,\n",
              " 0.4413702239789196,\n",
              " 0.4453227931488801]"
            ]
          },
          "metadata": {},
          "execution_count": 297
        }
      ]
    },
    {
      "cell_type": "markdown",
      "source": [
        "By adding dummy data, removing the significance of outliers through sqrt function, and standardizing the dataset, a 5% increase in accuracy occurs.\n",
        "\n",
        "Now, I will test it with the random forest classifier."
      ],
      "metadata": {
        "id": "TSpXE0DdMKce"
      }
    },
    {
      "cell_type": "code",
      "source": [
        "trees = [1, 5, 10, 15, 20, 25, 30, 50, 100, 200, 300, 400, 500]\n",
        "results = []\n",
        "\n",
        "for tree in trees:\n",
        "  pipe = make_pipeline(StandardScaler(),\n",
        "                       RandomForestClassifier(n_estimators = tree,\n",
        "                                              criterion = 'entropy',\n",
        "                                              class_weight = 'balanced',\n",
        "                                              ),\n",
        "                       )\n",
        "  \n",
        "  pipe.fit(X_train, y_train)\n",
        "  results.append(pipe.score(X_test, y_test))\n",
        "\n",
        "results"
      ],
      "metadata": {
        "colab": {
          "base_uri": "https://localhost:8080/"
        },
        "id": "INZ-3tLjMApf",
        "outputId": "376951a0-5efc-4880-d322-3cd3320dccbd"
      },
      "execution_count": 293,
      "outputs": [
        {
          "output_type": "execute_result",
          "data": {
            "text/plain": [
              "[0.40711462450592883,\n",
              " 0.42424242424242425,\n",
              " 0.463768115942029,\n",
              " 0.45718050065876153,\n",
              " 0.4519104084321476,\n",
              " 0.461133069828722,\n",
              " 0.4413702239789196,\n",
              " 0.4624505928853755,\n",
              " 0.4624505928853755,\n",
              " 0.48221343873517786,\n",
              " 0.46903820816864294,\n",
              " 0.4782608695652174,\n",
              " 0.48089591567852435]"
            ]
          },
          "metadata": {},
          "execution_count": 293
        }
      ]
    },
    {
      "cell_type": "markdown",
      "source": [
        "For the Random Forest Classifier, the accuracy has improved by about 7% and predictions are more stable now. If a non-parametric was able to increase drastically, then I would like to test whether the same has applied to KNN."
      ],
      "metadata": {
        "id": "hao3HZytNbvn"
      }
    },
    {
      "cell_type": "code",
      "source": [
        "neighbors = [1, 5, 10, 15, 20, 25, 30, 50, 100, 200]\n",
        "results = []\n",
        "for neighbor in neighbors:\n",
        "  pipe = make_pipeline(StandardScaler(),\n",
        "                       KNN(n_neighbors = neighbor,\n",
        "                           weights = 'uniform',\n",
        "                           )\n",
        "                       )\n",
        "\n",
        "  pipe.fit(X_train, y_train)\n",
        "  results.append(pipe.score(X_test, y_test))\n",
        "\n",
        "results"
      ],
      "metadata": {
        "colab": {
          "base_uri": "https://localhost:8080/"
        },
        "id": "9h_uQ9dnMqxX",
        "outputId": "27b95245-66fa-4a59-cd7e-a81a7f432b2b"
      },
      "execution_count": 294,
      "outputs": [
        {
          "output_type": "execute_result",
          "data": {
            "text/plain": [
              "[0.40843214756258234,\n",
              " 0.4413702239789196,\n",
              " 0.4519104084321476,\n",
              " 0.4650856389986825,\n",
              " 0.46903820816864294,\n",
              " 0.463768115942029,\n",
              " 0.44664031620553357,\n",
              " 0.461133069828722,\n",
              " 0.45454545454545453,\n",
              " 0.3715415019762846]"
            ]
          },
          "metadata": {},
          "execution_count": 294
        }
      ]
    },
    {
      "cell_type": "markdown",
      "source": [
        "KNN was able to improve by around 10%. Now, I can make the following assumptions concerning the transformations in my dataset:\n",
        "1. Applying dummy data allowed for more normal distribution, which allowed for both types of classifiers to get better.\n",
        "2. Unit variance greatly improved the non-parametric classifiers, while mainly just stabilizing Logistic Regression.\n",
        "3. Reducing the significance of outliers benefit both sides.\n",
        "\n",
        "\n",
        "I'll now experiment with a StackClassifier to see if these models can benefit each other."
      ],
      "metadata": {
        "id": "iwc3hRkzPN0C"
      }
    },
    {
      "cell_type": "code",
      "source": [
        "from sklearn.ensemble import StackingClassifier\n",
        "\n",
        "estimators = [\n",
        "  ('rf', make_pipeline(StandardScaler(),\n",
        "                       RandomForestClassifier(n_estimators = 500,\n",
        "                                              criterion = 'entropy',\n",
        "                                              class_weight = 'balanced',\n",
        "                                              ),\n",
        "                       ),\n",
        "  ),\n",
        "  ('knn', make_pipeline(StandardScaler(),\n",
        "                       KNN(n_neighbors = 20,\n",
        "                           weights = 'uniform',\n",
        "                          )\n",
        "                       ))\n",
        "]\n",
        "\n",
        "final_estimator = make_pipeline(StandardScaler(),\n",
        "                                LogisticRegression(C = 1.0,\n",
        "                                              max_iter = 500,\n",
        "                                              solver = 'newton-cg',\n",
        "                                              penalty = 'l2'),\n",
        "                                )\n",
        "\n",
        "model = StackingClassifier(estimators = estimators,\n",
        "                           final_estimator = final_estimator)\n"
      ],
      "metadata": {
        "id": "u4FCdzhtPKWu"
      },
      "execution_count": 298,
      "outputs": []
    },
    {
      "cell_type": "code",
      "source": [
        "model.fit(X_train, y_train)\n",
        "\n",
        "model.score(X_test, y_test)"
      ],
      "metadata": {
        "colab": {
          "base_uri": "https://localhost:8080/"
        },
        "id": "coNv5pAnToqU",
        "outputId": "6358b122-95c5-42b0-a6d7-ed00729bff12"
      },
      "execution_count": 300,
      "outputs": [
        {
          "output_type": "execute_result",
          "data": {
            "text/plain": [
              "0.5019762845849802"
            ]
          },
          "metadata": {},
          "execution_count": 300
        }
      ]
    },
    {
      "cell_type": "markdown",
      "source": [
        "By taking the best parameters seen from the runs with Random Forest, KNN, and Logistic Classifier, I created a Stacking Classifier with a 2% increase in accuracy from the normal Random Forest. There is the potential for it to increase more most likely if trained with more trees as it appeared that the accuracy was improving with more trees."
      ],
      "metadata": {
        "id": "MPA5-bkyUTOl"
      }
    },
    {
      "cell_type": "markdown",
      "source": [
        "## Non-Technical Conclusion\n",
        "\n",
        "The final model is able to achieve a 50% accuracy after using common practices to help boost the prediction. Though 50% accuracy is not remarkable, eight separate ranks were classified, meaning that this was not simply a flip of a coin, but rather a dice with 8 sides and being able to get the right answer 50% of the times despite that. \n",
        "\n",
        "An issue with the dataset is that there is not enough significant data on higher-tiered players who are at a professional level. By adding dummy data, I was able to replicate what might have been collected, but there are still uncertainities to whether the current data is adequate enough.\n",
        "\n",
        "In addition, there were several elements to the dataset that were removed to due its irrelevance for future predictions or that it really just had no relation with the rank of the player. "
      ],
      "metadata": {
        "id": "nGKMgMW_ZDZ0"
      }
    },
    {
      "cell_type": "markdown",
      "source": [
        "## Hypothetical for Advising\n",
        "\n",
        "If more data could be collected, then the following should be prioritized:\n",
        "\n",
        "1. More data on professional players, classes 7 and 8, need to be collected in order to reflect predictions more correctly.\n",
        "2. Add a column on HoursPerDay. While TotalHours did not matter in the end, players that play more on a consistent basis might give more insight on their rank as the job of pro players is to get better at the game and to play more. HoursPerWeek had a correlation of over 20%, which is statistically significant, so it could be same with HoursPerDay.\n",
        "3. Avoid collecting future data concerning Age, GameID, GapBetweenPACs, and Action Latency. These had no indication of one's rank.\n",
        "4. Instead, collect more data on Mouse or Keyboard activity, whether it be the amount of clicks of a certain button or the movement of the mouse across the game. Though this is generalized as APM, it may be meaningful to differentiate them. "
      ],
      "metadata": {
        "id": "8MBth8H8bsEs"
      }
    },
    {
      "cell_type": "code",
      "source": [],
      "metadata": {
        "id": "QzQ_TArkbmqw"
      },
      "execution_count": null,
      "outputs": []
    }
  ]
}